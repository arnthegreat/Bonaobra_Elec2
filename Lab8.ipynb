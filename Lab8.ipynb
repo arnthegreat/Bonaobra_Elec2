{
 "cells": [
  {
   "cell_type": "code",
   "execution_count": null,
   "id": "01ac9d5d",
   "metadata": {},
   "outputs": [],
   "source": [
    "# 📌 Spark Setup\n",
    "from pyspark.sql import SparkSession\n",
    "\n",
    "spark = SparkSession.builder.appName(\"FlightDelayML\").getOrCreate()\n"
   ]
  },
  {
   "cell_type": "code",
   "execution_count": 2,
   "id": "997a2124",
   "metadata": {},
   "outputs": [
    {
     "name": "stdout",
     "output_type": "stream",
     "text": [
      "+----+-----+-------+-----------------+-------+--------------------+-----------+---------+----------+----------+------+-----------+----------------+-------------+------------+---------+-------------+-------------+---------+--------------+-------------------+\n",
      "|year|month|carrier|     carrier_name|airport|        airport_name|arr_flights|arr_del15|carrier_ct|weather_ct|nas_ct|security_ct|late_aircraft_ct|arr_cancelled|arr_diverted|arr_delay|carrier_delay|weather_delay|nas_delay|security_delay|late_aircraft_delay|\n",
      "+----+-----+-------+-----------------+-------+--------------------+-----------+---------+----------+----------+------+-----------+----------------+-------------+------------+---------+-------------+-------------+---------+--------------+-------------------+\n",
      "|2023|    8|     9E|Endeavor Air Inc.|    ABE|Allentown/Bethleh...|       89.0|     13.0|      2.25|       1.6|  3.16|        0.0|            5.99|          2.0|         1.0|   1375.0|         71.0|        761.0|    118.0|           0.0|              425.0|\n",
      "|2023|    8|     9E|Endeavor Air Inc.|    ABY|Albany, GA: South...|       62.0|     10.0|      1.97|      0.04|  0.57|        0.0|            7.42|          0.0|         1.0|    799.0|        218.0|          1.0|     62.0|           0.0|              518.0|\n",
      "|2023|    8|     9E|Endeavor Air Inc.|    AEX|Alexandria, LA: A...|       62.0|     10.0|      2.73|      1.18|   1.8|        0.0|            4.28|          1.0|         0.0|    766.0|         56.0|        188.0|     78.0|           0.0|              444.0|\n",
      "|2023|    8|     9E|Endeavor Air Inc.|    AGS|Augusta, GA: Augu...|       66.0|     12.0|      3.69|      2.27|  4.47|        0.0|            1.57|          1.0|         1.0|   1397.0|        471.0|        320.0|    388.0|           0.0|              218.0|\n",
      "|2023|    8|     9E|Endeavor Air Inc.|    ALB|Albany, NY: Alban...|       92.0|     22.0|      7.76|       0.0|  2.96|        0.0|           11.28|          2.0|         0.0|   1530.0|        628.0|          0.0|    134.0|           0.0|              768.0|\n",
      "+----+-----+-------+-----------------+-------+--------------------+-----------+---------+----------+----------+------+-----------+----------------+-------------+------------+---------+-------------+-------------+---------+--------------+-------------------+\n",
      "only showing top 5 rows\n",
      "\n"
     ]
    }
   ],
   "source": [
    "# 📌 Load Dataset\n",
    "df = spark.read.csv(\"Airline_Delay_Cause.csv\", header=True, inferSchema=True)\n",
    "df.show(5)\n"
   ]
  },
  {
   "cell_type": "code",
   "execution_count": null,
   "id": "e89c43c1",
   "metadata": {},
   "outputs": [],
   "source": [
    "# 📌 Filter for JFK and LAX only\n",
    "df = df.filter(df.airport.isin(\"ABE\", \"AEX\", \"ALB\", \"AGS\"))\n"
   ]
  },
  {
   "cell_type": "code",
   "execution_count": 8,
   "id": "6d3d9b83",
   "metadata": {},
   "outputs": [],
   "source": [
    "# 📌 Create binary label: 1 = delayed (>15 min), 0 = on time\n",
    "from pyspark.sql.functions import when, col\n",
    "\n",
    "df = df.withColumn(\"label\", when(col(\"arr_delay\") > 15, 1).otherwise(0))\n"
   ]
  },
  {
   "cell_type": "code",
   "execution_count": 11,
   "id": "9efc7344",
   "metadata": {},
   "outputs": [],
   "source": [
    "# 📌 Feature Engineering\n",
    "df = df.withColumn(\"MONTH\", col(\"MONTH\").cast(\"int\"))\n",
    "df = df.select(\"MONTH\", \"carrier\", \"airport\", \"label\")\n"
   ]
  },
  {
   "cell_type": "code",
   "execution_count": 12,
   "id": "e5bd4802",
   "metadata": {},
   "outputs": [],
   "source": [
    "from pyspark.ml.feature import StringIndexer, OneHotEncoder, VectorAssembler\n",
    "from pyspark.ml import Pipeline\n",
    "\n",
    "# Index categorical columns\n",
    "indexers = [\n",
    "    StringIndexer(inputCol=\"carrier\", outputCol=\"AIRLINE_INDEX\"),\n",
    "    StringIndexer(inputCol=\"airport\", outputCol=\"DEST_INDEX\")\n",
    "]\n",
    "\n",
    "# One-hot encode the indexed columns\n",
    "encoder = OneHotEncoder(inputCols=[\"AIRLINE_INDEX\", \"DEST_INDEX\"],\n",
    "                        outputCols=[\"AIRLINE_VEC\", \"DEST_VEC\"])\n",
    "\n",
    "# Assemble all features into one vector\n",
    "assembler = VectorAssembler(\n",
    "    inputCols=[\"MONTH\", \"AIRLINE_VEC\", \"DEST_VEC\"],  # removed DEP_HOUR\n",
    "    outputCol=\"features\"\n",
    ")\n",
    "\n",
    "# Create a pipeline\n",
    "pipeline = Pipeline(stages=indexers + [encoder, assembler])\n"
   ]
  },
  {
   "cell_type": "code",
   "execution_count": 13,
   "id": "797d0ac3",
   "metadata": {},
   "outputs": [],
   "source": [
    "# 📌 Train-Test Split\n",
    "train, test = df.randomSplit([0.8, 0.2], seed=42)\n"
   ]
  },
  {
   "cell_type": "code",
   "execution_count": 15,
   "id": "afde6fc5",
   "metadata": {},
   "outputs": [],
   "source": [
    "# 📌 Train & Evaluate Function\n",
    "import time\n",
    "from pyspark.ml.evaluation import BinaryClassificationEvaluator, MulticlassClassificationEvaluator\n",
    "\n",
    "def train_and_evaluate(model, model_name):\n",
    "    pipeline = Pipeline(stages=indexers + [encoder, assembler, model])\n",
    "    start = time.time()\n",
    "    model_fit = pipeline.fit(train)\n",
    "    predictions = model_fit.transform(test)\n",
    "    \n",
    "    acc_eval = MulticlassClassificationEvaluator(labelCol=\"label\", metricName=\"accuracy\")\n",
    "    auc_eval = BinaryClassificationEvaluator(labelCol=\"label\")\n",
    "\n",
    "    acc = acc_eval.evaluate(predictions)\n",
    "    auc = auc_eval.evaluate(predictions)\n",
    "\n",
    "    print(f\"Model: {model_name}\")\n",
    "    print(f\"Accuracy: {acc:.4f}\")\n",
    "    print(f\"AUC: {auc:.4f}\")\n",
    "    print(f\"Time Taken: {time.time() - start:.2f} sec\\n\")\n"
   ]
  },
  {
   "cell_type": "code",
   "execution_count": 16,
   "id": "13415ec9",
   "metadata": {},
   "outputs": [
    {
     "name": "stdout",
     "output_type": "stream",
     "text": [
      "Model: Logistic Regression\n",
      "Accuracy: 0.9677\n",
      "AUC: 0.7627\n",
      "Time Taken: 9.88 sec\n",
      "\n"
     ]
    }
   ],
   "source": [
    "# 📌 Logistic Regression\n",
    "from pyspark.ml.classification import LogisticRegression\n",
    "\n",
    "lr = LogisticRegression(featuresCol=\"features\", labelCol=\"label\", maxIter=10)\n",
    "train_and_evaluate(lr, \"Logistic Regression\")\n"
   ]
  },
  {
   "cell_type": "code",
   "execution_count": 17,
   "id": "0434a959",
   "metadata": {},
   "outputs": [
    {
     "name": "stdout",
     "output_type": "stream",
     "text": [
      "Model: Random Forest\n",
      "Accuracy: 0.9677\n",
      "AUC: 0.7827\n",
      "Time Taken: 5.67 sec\n",
      "\n"
     ]
    }
   ],
   "source": [
    "# 📌 Random Forest\n",
    "from pyspark.ml.classification import RandomForestClassifier\n",
    "\n",
    "rf = RandomForestClassifier(featuresCol=\"features\", labelCol=\"label\", numTrees=50)\n",
    "train_and_evaluate(rf, \"Random Forest\")\n"
   ]
  },
  {
   "cell_type": "code",
   "execution_count": 18,
   "id": "a424b5b5",
   "metadata": {},
   "outputs": [
    {
     "name": "stdout",
     "output_type": "stream",
     "text": [
      "Model: Gradient Boosted Trees\n",
      "Accuracy: 0.9677\n",
      "AUC: 0.7380\n",
      "Time Taken: 19.68 sec\n",
      "\n"
     ]
    }
   ],
   "source": [
    "# 📌 Gradient Boosted Trees\n",
    "from pyspark.ml.classification import GBTClassifier\n",
    "\n",
    "gbt = GBTClassifier(featuresCol=\"features\", labelCol=\"label\", maxIter=30)\n",
    "train_and_evaluate(gbt, \"Gradient Boosted Trees\")\n"
   ]
  }
 ],
 "metadata": {
  "kernelspec": {
   "display_name": "base",
   "language": "python",
   "name": "python3"
  },
  "language_info": {
   "codemirror_mode": {
    "name": "ipython",
    "version": 3
   },
   "file_extension": ".py",
   "mimetype": "text/x-python",
   "name": "python",
   "nbconvert_exporter": "python",
   "pygments_lexer": "ipython3",
   "version": "3.12.7"
  }
 },
 "nbformat": 4,
 "nbformat_minor": 5
}
